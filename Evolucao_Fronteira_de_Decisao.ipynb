{
 "cells": [
  {
   "cell_type": "code",
   "execution_count": 1,
   "id": "983d55d0-d633-4a13-ac71-348e343e4af3",
   "metadata": {},
   "outputs": [],
   "source": [
    "import numpy as np\n",
    "import matplotlib.pyplot as plt\n",
    "import seaborn as sns\n",
    "import cv2\n",
    "import imageio\n",
    "import tensorflow as tf\n",
    "from tensorflow import keras\n",
    "from tensorflow.keras import layers, regularizers\n",
    "from sklearn.model_selection import train_test_split\n",
    "import warnings\n",
    "\n",
    "warnings.filterwarnings('ignore')"
   ]
  },
  {
   "cell_type": "code",
   "execution_count": 2,
   "id": "65f4572c-3e57-4d0a-86ad-14bb73d2a598",
   "metadata": {},
   "outputs": [],
   "source": [
    "# Gerar dados sintéticos\n",
    "np.random.seed(42)\n",
    "X = np.random.rand(1000, 2) * 10  # Mais pontos para melhor aprendizado\n",
    "y = ((X[:, 0] + X[:, 1]) > 10).astype(int)"
   ]
  },
  {
   "cell_type": "code",
   "execution_count": 3,
   "id": "dbd4b16c-0b4b-40a6-a628-d232c707a4c2",
   "metadata": {},
   "outputs": [],
   "source": [
    "# Dividir dados em treino e teste\n",
    "X_train, X_test, y_train, y_test = train_test_split(X, y, test_size=0.2, random_state=42)"
   ]
  },
  {
   "cell_type": "code",
   "execution_count": 4,
   "id": "d778ab84-0978-48cd-a8b8-0a901f0d786e",
   "metadata": {},
   "outputs": [],
   "source": [
    "# Normalizar os dados\n",
    "X_train, X_test = X_train / 10.0, X_test / 10.0"
   ]
  },
  {
   "cell_type": "code",
   "execution_count": 5,
   "id": "fe31f025-0eb4-43d0-9cd7-5a154532a6b0",
   "metadata": {},
   "outputs": [],
   "source": [
    "# Criar o modelo de rede neural com mais camadas e regularização\n",
    "model = keras.Sequential([\n",
    "    layers.Dense(16, activation='relu', input_shape=(2,), kernel_regularizer=regularizers.l2(0.01)),\n",
    "    layers.Dense(16, activation='relu', kernel_regularizer=regularizers.l2(0.01)),\n",
    "    layers.Dense(1, activation='sigmoid')\n",
    "])\n",
    "\n",
    "model.compile(optimizer=keras.optimizers.Adam(learning_rate=0.005), loss='binary_crossentropy', metrics=['accuracy'])"
   ]
  },
  {
   "cell_type": "code",
   "execution_count": 6,
   "id": "4af18767-d345-4761-9529-95b68631e752",
   "metadata": {},
   "outputs": [
    {
     "name": "stdout",
     "output_type": "stream",
     "text": [
      "\u001b[1m313/313\u001b[0m \u001b[32m━━━━━━━━━━━━━━━━━━━━\u001b[0m\u001b[37m\u001b[0m \u001b[1m1s\u001b[0m 2ms/step\n",
      "\u001b[1m313/313\u001b[0m \u001b[32m━━━━━━━━━━━━━━━━━━━━\u001b[0m\u001b[37m\u001b[0m \u001b[1m1s\u001b[0m 2ms/step\n",
      "\u001b[1m313/313\u001b[0m \u001b[32m━━━━━━━━━━━━━━━━━━━━\u001b[0m\u001b[37m\u001b[0m \u001b[1m1s\u001b[0m 2ms/step\n",
      "\u001b[1m313/313\u001b[0m \u001b[32m━━━━━━━━━━━━━━━━━━━━\u001b[0m\u001b[37m\u001b[0m \u001b[1m1s\u001b[0m 2ms/step\n",
      "\u001b[1m313/313\u001b[0m \u001b[32m━━━━━━━━━━━━━━━━━━━━\u001b[0m\u001b[37m\u001b[0m \u001b[1m1s\u001b[0m 2ms/step\n",
      "\u001b[1m313/313\u001b[0m \u001b[32m━━━━━━━━━━━━━━━━━━━━\u001b[0m\u001b[37m\u001b[0m \u001b[1m0s\u001b[0m 2ms/step\n",
      "\u001b[1m313/313\u001b[0m \u001b[32m━━━━━━━━━━━━━━━━━━━━\u001b[0m\u001b[37m\u001b[0m \u001b[1m1s\u001b[0m 1ms/step\n",
      "\u001b[1m313/313\u001b[0m \u001b[32m━━━━━━━━━━━━━━━━━━━━\u001b[0m\u001b[37m\u001b[0m \u001b[1m1s\u001b[0m 2ms/step\n",
      "\u001b[1m313/313\u001b[0m \u001b[32m━━━━━━━━━━━━━━━━━━━━\u001b[0m\u001b[37m\u001b[0m \u001b[1m1s\u001b[0m 2ms/step\n",
      "\u001b[1m313/313\u001b[0m \u001b[32m━━━━━━━━━━━━━━━━━━━━\u001b[0m\u001b[37m\u001b[0m \u001b[1m1s\u001b[0m 2ms/step\n",
      "\u001b[1m313/313\u001b[0m \u001b[32m━━━━━━━━━━━━━━━━━━━━\u001b[0m\u001b[37m\u001b[0m \u001b[1m0s\u001b[0m 1ms/step\n",
      "\u001b[1m313/313\u001b[0m \u001b[32m━━━━━━━━━━━━━━━━━━━━\u001b[0m\u001b[37m\u001b[0m \u001b[1m1s\u001b[0m 2ms/step\n",
      "\u001b[1m313/313\u001b[0m \u001b[32m━━━━━━━━━━━━━━━━━━━━\u001b[0m\u001b[37m\u001b[0m \u001b[1m1s\u001b[0m 2ms/step\n",
      "\u001b[1m313/313\u001b[0m \u001b[32m━━━━━━━━━━━━━━━━━━━━\u001b[0m\u001b[37m\u001b[0m \u001b[1m1s\u001b[0m 2ms/step\n",
      "\u001b[1m313/313\u001b[0m \u001b[32m━━━━━━━━━━━━━━━━━━━━\u001b[0m\u001b[37m\u001b[0m \u001b[1m1s\u001b[0m 2ms/step\n",
      "\u001b[1m313/313\u001b[0m \u001b[32m━━━━━━━━━━━━━━━━━━━━\u001b[0m\u001b[37m\u001b[0m \u001b[1m0s\u001b[0m 1ms/step\n",
      "\u001b[1m313/313\u001b[0m \u001b[32m━━━━━━━━━━━━━━━━━━━━\u001b[0m\u001b[37m\u001b[0m \u001b[1m1s\u001b[0m 2ms/step\n",
      "\u001b[1m313/313\u001b[0m \u001b[32m━━━━━━━━━━━━━━━━━━━━\u001b[0m\u001b[37m\u001b[0m \u001b[1m1s\u001b[0m 2ms/step\n",
      "\u001b[1m313/313\u001b[0m \u001b[32m━━━━━━━━━━━━━━━━━━━━\u001b[0m\u001b[37m\u001b[0m \u001b[1m1s\u001b[0m 2ms/step\n",
      "\u001b[1m313/313\u001b[0m \u001b[32m━━━━━━━━━━━━━━━━━━━━\u001b[0m\u001b[37m\u001b[0m \u001b[1m1s\u001b[0m 2ms/step\n"
     ]
    }
   ],
   "source": [
    "# Treinar o modelo e capturar a evolução da fronteira de decisão\n",
    "frames = []\n",
    "for epoch in range(1, 21):  # Aumentar o número de épocas\n",
    "    model.fit(X_train, y_train, epochs=1, verbose=0)\n",
    "    \n",
    "    # Gerar uma grade de pontos para visualizar a fronteira de decisão\n",
    "    xx, yy = np.meshgrid(np.linspace(0, 1, 100), np.linspace(0, 1, 100))\n",
    "    grid = np.c_[xx.ravel(), yy.ravel()]\n",
    "    preds = model.predict(grid).reshape(xx.shape)\n",
    "    \n",
    "    # Criar o frame da animação com tamanho ajustado para ser múltiplo de 16\n",
    "    fig, ax = plt.subplots(figsize=(6.08, 6.08))  # 6.08 inches * 100 dpi = 608 pixels\n",
    "    ax.contourf(xx, yy, preds, levels=[0, 0.5, 1], alpha=0.3, colors=['blue', 'red'])\n",
    "    sns.scatterplot(x=X_train[:, 0], y=X_train[:, 1], hue=y_train, palette=['blue', 'red'], edgecolor='k', s=50, legend=False)\n",
    "    plt.title(f'Fronteira de Decisão - Época {epoch}')\n",
    "    \n",
    "    frame_path = f'frame_{epoch}.png'\n",
    "    plt.savefig(frame_path)\n",
    "    plt.close()\n",
    "    \n",
    "    frame = cv2.imread(frame_path)\n",
    "    frames.append(frame)"
   ]
  },
  {
   "cell_type": "code",
   "execution_count": 7,
   "id": "8be967bb-82be-47bc-b84b-9e9fa738751a",
   "metadata": {},
   "outputs": [],
   "source": [
    "# Adicionar frame final com a mensagem de conclusão\n",
    "fig, ax = plt.subplots(figsize=(6.08, 6.08))\n",
    "ax.contourf(xx, yy, preds, levels=[0, 0.5, 1], alpha=0.3, colors=['blue', 'red'])\n",
    "sns.scatterplot(x=X_train[:, 0], y=X_train[:, 1], hue=y_train, palette=['blue', 'red'], edgecolor='k', s=50, legend=False)\n",
    "plt.title('Separação das classes concluída!', fontsize=14)\n",
    "\n",
    "frame_path = 'final_frame.png'\n",
    "plt.savefig(frame_path)\n",
    "plt.close()\n",
    "final_frame = cv2.imread(frame_path)\n",
    "frames.append(final_frame)\n",
    "\n",
    "# Repetir a animação duas vezes\n",
    "frames *= 2"
   ]
  },
  {
   "cell_type": "code",
   "execution_count": 8,
   "id": "7a9689c4-d2e2-45f7-aa9a-e1157da30bfd",
   "metadata": {},
   "outputs": [
    {
     "name": "stdout",
     "output_type": "stream",
     "text": [
      "Animação salva como deep_learning_decision_boundary.mp4\n"
     ]
    }
   ],
   "source": [
    "# Criar animação\n",
    "video_path = 'deep_learning_decision_boundary.mp4'\n",
    "imageio.mimsave(video_path, frames, fps=1.5)\n",
    "\n",
    "print(f'Animação salva como {video_path}')"
   ]
  }
 ],
 "metadata": {
  "kernelspec": {
   "display_name": "Python 3.11 (TensorFlow)",
   "language": "python",
   "name": "meu_env_python3.11"
  },
  "language_info": {
   "codemirror_mode": {
    "name": "ipython",
    "version": 3
   },
   "file_extension": ".py",
   "mimetype": "text/x-python",
   "name": "python",
   "nbconvert_exporter": "python",
   "pygments_lexer": "ipython3",
   "version": "3.11.11"
  }
 },
 "nbformat": 4,
 "nbformat_minor": 5
}
